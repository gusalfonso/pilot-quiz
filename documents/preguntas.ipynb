{
 "cells": [
  {
   "cell_type": "code",
   "execution_count": null,
   "metadata": {},
   "outputs": [],
   "source": [
    "import re\n",
    "from PyPDF2 import PdfReader\n",
    "\n",
    "reader = PdfReader(\"questions2.pdf\")\n",
    "\n",
    "lines = []\n",
    "for page in reader.pages:\n",
    "    text = page.extract_text()\n",
    "    if text:\n",
    "        lines.extend(text.split('\\n'))\n",
    "\n",
    "text_to_remove = (\n",
    "    \"Dirección Nacional de Seguridad Operacional\",\n",
    "    \"Dirección de Licencias al Personal\",\n",
    "    \"Azopardo 1405\",\n",
    "    \"Capital FederalLista de Preguntas\",\n",
    "    \"Publicacion ANAC Piloto Privado de Avion Septiembre 2014 :: Piloto Privado de avion\",\n",
    "    \"Publicación de Preguntas Resolución Nº 306/2014\",\n",
    "    \"Las siguientes preguntas con sus respuestas corresponden al programa de instrucción reconocida del curso teórico de Piloto Privado.RAAC 61.105\",\n",
    "    \"Conocimientos aeronáuticos El cuestionario formara parte de la evaluación de los exámenes de idoneidad. Se informa a los usuarios que estos cuestionarios\",\n",
    "    \"serán ampliados o modificados de forma periódica.\",\n",
    "    \"Capital Federal\"\n",
    ")\n",
    "\n",
    "cleaned_lines = [\n",
    "    line.replace(\"Capital Federal\", \"\").strip()\n",
    "    for line in lines \n",
    "    if line.strip() not in text_to_remove and \"página\" not in line.lower()\n",
    "]\n",
    "\n",
    "pattern = re.compile(r'^\\d+S1$')\n",
    "pattern2 = re.compile(r'^\\d+\\s+\\d+|\\d+\\*\\d+$')\n",
    "\n",
    "filtered_items = [item for item in cleaned_lines if pattern.match(item)]\n",
    "\n",
    "result_items = []\n",
    "\n",
    "for i, j in enumerate(cleaned_lines):\n",
    "    if pattern.match(cleaned_lines[i]):\n",
    "        if pattern2.match(cleaned_lines[i+2]):\n",
    "            result_items.append(cleaned_lines[i+1])\n",
    "        else:\n",
    "            result_items.append(cleaned_lines[i+1] +\" \"+ cleaned_lines[i+2])\n",
    "\n",
    "pattern3 = re.compile(r'^[^¿(a-zA-Z]*')\n",
    "\n",
    "for i, j in enumerate(result_items):\n",
    "    result_items[i] = pattern3.sub('',j).upper()\n",
    "\n",
    "result_items\n"
   ]
  },
  {
   "cell_type": "code",
   "execution_count": 86,
   "metadata": {},
   "outputs": [
    {
     "name": "stdout",
     "output_type": "stream",
     "text": [
      "378 385 385\n"
     ]
    }
   ],
   "source": [
    "pattern4 = re.compile(r'^1+\\s+1+|1+\\*1+$')\n",
    "\n",
    "respuestas1 = []\n",
    "\n",
    "for i, j in enumerate(cleaned_lines):\n",
    "    if pattern4.match(cleaned_lines[i]):\n",
    "        respuestas1.append(cleaned_lines[i+1])\n",
    "\n",
    "print(len(respuestas1),len(result_items), len(filtered_items))\n"
   ]
  }
 ],
 "metadata": {
  "kernelspec": {
   "display_name": "Python 3",
   "language": "python",
   "name": "python3"
  },
  "language_info": {
   "codemirror_mode": {
    "name": "ipython",
    "version": 3
   },
   "file_extension": ".py",
   "mimetype": "text/x-python",
   "name": "python",
   "nbconvert_exporter": "python",
   "pygments_lexer": "ipython3",
   "version": "3.8.10"
  }
 },
 "nbformat": 4,
 "nbformat_minor": 2
}
