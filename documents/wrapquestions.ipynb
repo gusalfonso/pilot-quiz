{
 "cells": [
  {
   "cell_type": "code",
   "execution_count": 2,
   "metadata": {},
   "outputs": [
    {
     "name": "stdout",
     "output_type": "stream",
     "text": [
      "Requirement already satisfied: pdfplumber in d:\\instalaciones\\program files\\python3.12\\lib\\site-packages (0.11.3)\n",
      "Requirement already satisfied: pdfminer.six==20231228 in d:\\instalaciones\\program files\\python3.12\\lib\\site-packages (from pdfplumber) (20231228)\n",
      "Requirement already satisfied: Pillow>=9.1 in d:\\instalaciones\\program files\\python3.12\\lib\\site-packages (from pdfplumber) (10.4.0)\n",
      "Requirement already satisfied: pypdfium2>=4.18.0 in d:\\instalaciones\\program files\\python3.12\\lib\\site-packages (from pdfplumber) (4.30.0)\n",
      "Requirement already satisfied: charset-normalizer>=2.0.0 in d:\\instalaciones\\program files\\python3.12\\lib\\site-packages (from pdfminer.six==20231228->pdfplumber) (3.3.2)\n",
      "Requirement already satisfied: cryptography>=36.0.0 in d:\\instalaciones\\program files\\python3.12\\lib\\site-packages (from pdfminer.six==20231228->pdfplumber) (43.0.0)\n",
      "Requirement already satisfied: cffi>=1.12 in d:\\instalaciones\\program files\\python3.12\\lib\\site-packages (from cryptography>=36.0.0->pdfminer.six==20231228->pdfplumber) (1.17.0)\n",
      "Requirement already satisfied: pycparser in d:\\instalaciones\\program files\\python3.12\\lib\\site-packages (from cffi>=1.12->cryptography>=36.0.0->pdfminer.six==20231228->pdfplumber) (2.22)\n",
      "Note: you may need to restart the kernel to use updated packages.\n"
     ]
    },
    {
     "name": "stderr",
     "output_type": "stream",
     "text": [
      "\n",
      "[notice] A new release of pip is available: 23.2.1 -> 24.2\n",
      "[notice] To update, run: python.exe -m pip install --upgrade pip\n"
     ]
    }
   ],
   "source": [
    "%pip install pdfplumber\n",
    "\n",
    "\n",
    "import pdfplumber\n",
    "import json\n",
    "import re\n",
    "\n",
    "def extract_questions_and_answers(pdf_path):\n",
    "    questions = []\n",
    "    with pdfplumber.open(pdf_path) as pdf:\n",
    "        for page_number, page in enumerate(pdf.pages):\n",
    "            text = page.extract_text()\n",
    "\n",
    "            # Procesar el texto para extraer las preguntas, respuestas y respuestas correctas\n",
    "            pattern = r'(\\d+)\\.\\s(.+?)(?:\\n|$)(?:a\\.\\s(.+?)\\n)?(?:b\\.\\s(.+?)\\n)?(?:c\\.\\s(.+?)\\n)?(?:d\\.\\s(.+?)\\n)?(?:Correcto:\\s(.+?))'\n",
    "            matches = re.findall(pattern, text, re.DOTALL)\n",
    "            for match in matches:\n",
    "                question_data = {\n",
    "                    \"id\": int(match[0]),\n",
    "                    \"question\": match[1].strip(),\n",
    "                    \"category\": \"\",\n",
    "                    \"category2\": \"\",\n",
    "                    \"source\": \"\",\n",
    "                    \"creator\": \"\",\n",
    "                    \"answers\": [match[2].strip(), match[3].strip(), match[4].strip(), match[5].strip()],\n",
    "                    \"correct\": match[6].strip()\n",
    "                }\n",
    "                questions.append(question_data)\n",
    "\n",
    "    return questions\n",
    "\n",
    "def save_to_json(data, json_path):\n",
    "    with open(json_path, 'w', encoding='utf-8') as json_file:\n",
    "        json.dump(data, json_file, ensure_ascii=False, indent=4)\n",
    "\n",
    "pdf_path = './questions2.pdf'\n",
    "json_path = './questions.json'\n",
    "questions = extract_questions_and_answers(pdf_path)\n",
    "save_to_json(questions, json_path)\n"
   ]
  }
 ],
 "metadata": {
  "kernelspec": {
   "display_name": "Python 3",
   "language": "python",
   "name": "python3"
  },
  "language_info": {
   "codemirror_mode": {
    "name": "ipython",
    "version": 3
   },
   "file_extension": ".py",
   "mimetype": "text/x-python",
   "name": "python",
   "nbconvert_exporter": "python",
   "pygments_lexer": "ipython3",
   "version": "3.12.1"
  }
 },
 "nbformat": 4,
 "nbformat_minor": 2
}
